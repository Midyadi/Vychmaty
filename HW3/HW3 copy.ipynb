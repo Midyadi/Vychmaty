{
 "cells": [
  {
   "cell_type": "markdown",
   "metadata": {},
   "source": [
    "## **Задание 1 - Базовая задача МНК**"
   ]
  },
  {
   "cell_type": "markdown",
   "metadata": {},
   "source": [
    "Теоретический вопрос 1."
   ]
  },
  {
   "cell_type": "markdown",
   "metadata": {},
   "source": [
    "Теоретический вопрос 2."
   ]
  },
  {
   "cell_type": "markdown",
   "metadata": {},
   "source": [
    "Практическое задание"
   ]
  },
  {
   "cell_type": "code",
   "execution_count": null,
   "metadata": {},
   "outputs": [],
   "source": [
    "import seaborn as sns\n",
    "import numpy as np\n",
    "\n",
    "data = sns.load_dataset('anscombe')\n",
    "\n",
    "stds = data.groupby([\"dataset\"]).std().rename(columns={\"x\": \"std x\", \"y\": \"std y\"})\n",
    "\n",
    "stds"
   ]
  },
  {
   "cell_type": "code",
   "execution_count": null,
   "metadata": {},
   "outputs": [],
   "source": [
    "pearson = data.groupby([\"dataset\"]).corr(method=\"pearson\")\n",
    "\n",
    "pearson\n"
   ]
  },
  {
   "cell_type": "code",
   "execution_count": null,
   "metadata": {},
   "outputs": [],
   "source": [
    "data1 = data.set_index('x')\n",
    "data.groupby('dataset').plot(legend=True, kind=\"scatter\", x=\"x\", y=\"y\")"
   ]
  },
  {
   "cell_type": "markdown",
   "metadata": {},
   "source": [
    "## **Задание 2 - Централизация признаков и МНК**"
   ]
  },
  {
   "cell_type": "markdown",
   "metadata": {},
   "source": [
    "Теоретический вопрос"
   ]
  },
  {
   "cell_type": "markdown",
   "metadata": {},
   "source": [
    "Практическая проверка"
   ]
  },
  {
   "cell_type": "code",
   "execution_count": 4,
   "metadata": {},
   "outputs": [],
   "source": [
    "n, m = 7,5 # Важно n>m - переопределённая система\n",
    "\n",
    "mat = np.random.randint(-5,5, size=(n,m))\n",
    "\n",
    "mat_0 = mat-mat.mean(axis=0).reshape(1,m)\n",
    "\n",
    "inv_0 = np.linalg.inv(np.matmul(mat_0.T, mat_0))"
   ]
  },
  {
   "cell_type": "code",
   "execution_count": 5,
   "metadata": {},
   "outputs": [],
   "source": [
    "mat_1 = np.concatenate((mat, np.ones(shape=(n,1))), axis=1)\n",
    "\n",
    "inv_1 = np.linalg.inv(np.matmul(mat_1.T, mat_1))[:-1,:-1]"
   ]
  },
  {
   "cell_type": "code",
   "execution_count": null,
   "metadata": {},
   "outputs": [],
   "source": [
    "inv_0, inv_1"
   ]
  },
  {
   "cell_type": "code",
   "execution_count": null,
   "metadata": {},
   "outputs": [],
   "source": [
    "np.allclose(inv_0, inv_1)"
   ]
  },
  {
   "cell_type": "markdown",
   "metadata": {},
   "source": [
    "## Задание 3 - Геометрический смысл псевдообратной матрицы"
   ]
  },
  {
   "cell_type": "markdown",
   "metadata": {},
   "source": [
    "## **Задание 4 - Матрица объект-признак**"
   ]
  },
  {
   "cell_type": "markdown",
   "metadata": {},
   "source": [
    "Теоретический вопрос 1"
   ]
  },
  {
   "cell_type": "markdown",
   "metadata": {},
   "source": [
    "Практическое задание"
   ]
  },
  {
   "cell_type": "code",
   "execution_count": 8,
   "metadata": {},
   "outputs": [],
   "source": [
    "N=2000\n",
    "\n",
    "A = np.random.randint(-5,5, size=(3,3))\n",
    "A = A.T @ A\n",
    "X = np.random.multivariate_normal(np.zeros(3), A, size=N)"
   ]
  },
  {
   "cell_type": "code",
   "execution_count": null,
   "metadata": {},
   "outputs": [],
   "source": [
    "A"
   ]
  },
  {
   "cell_type": "code",
   "execution_count": null,
   "metadata": {},
   "outputs": [],
   "source": [
    "X"
   ]
  },
  {
   "cell_type": "code",
   "execution_count": null,
   "metadata": {},
   "outputs": [],
   "source": [
    "S,V,D = np.linalg.svd(X)\n",
    "\n",
    "D"
   ]
  },
  {
   "cell_type": "code",
   "execution_count": null,
   "metadata": {},
   "outputs": [],
   "source": [
    "import plotly.graph_objects as go\n",
    "\n",
    "# Функция для рисования 3D графика с цветными сегментами\n",
    "def plot_colored_spiral(X,D,A):\n",
    "    \n",
    "\n",
    "    scat = go.Scatter3d(\n",
    "            x=X[:, 0],\n",
    "            y=X[:, 1],\n",
    "            z=X[:, 2],\n",
    "            mode='markers',\n",
    "            showlegend=False,\n",
    "            marker_line_color=\"black\", \n",
    "            marker_color=\"magenta\",\n",
    "                           \n",
    "            marker_line_width=20, \n",
    "            marker_size=4,\n",
    "        )\n",
    "    \n",
    "    con1 = go.Cone(x=[D[0,0]*max(20,A[0,0])],y=[D[0,1]*max(20,A[0,0])],z=[D[0,2]*max(20,A[0,0])], u=[D[0,0]], v=[D[0,1]], w=[D[0,2]], sizemode=\"absolute\",\n",
    "    sizeref=10)\n",
    "\n",
    "    con2 = go.Cone(x=[D[1,0]*max(20,A[1,1])],y=[D[1,1]*max(20,A[1,1])],z=[D[1,2]*max(20,A[1,1])], u=[D[1,0]], v=[D[1,1]], w=[D[1,2]], sizemode=\"absolute\",\n",
    "    sizeref=10)\n",
    "\n",
    "    con3 = go.Cone(x=[D[2,0]*max(20,A[2,2])],y=[D[2,1]*max(20,A[2,2])],z=[D[2,2]*max(20,A[2,2])],  u=[D[2,0]], v=[D[2,1]], w=[D[2,2]], sizemode=\"absolute\",\n",
    "    sizeref=10)\n",
    "    \n",
    "    fig = go.Figure(data = [scat, con1, con2, con3])\n",
    "    fig.update_layout(scene=dict(\n",
    "        xaxis=dict(title='X'),\n",
    "        yaxis=dict(title='Y'),\n",
    "        zaxis=dict(title='Z')\n",
    "    ))\n",
    "\n",
    "    fig.update_layout(scene_camera=dict(eye=dict(x=-1.25, y=-1.25, z=1.25),\n",
    "                                        center=dict(x=0, y=0, z=0),\n",
    "                                        up=dict(x=0, y=0, z=1),\n",
    "                                        projection=dict(type='perspective')),\n",
    "                      scene=dict(aspectmode='cube'))\n",
    "\n",
    "    # Установка размеров канваса\n",
    "    fig.update_layout(width=600, height=600)\n",
    "\n",
    "    fig.show(width=600, height=600)  # Размещение по центру\n",
    "\n",
    "# Создание интерактивных виджетов\n",
    "plot_colored_spiral(X, D, A)  # Начальное значение"
   ]
  },
  {
   "cell_type": "markdown",
   "metadata": {},
   "source": [
    "Перейдём в СК с базисными сингулярными векторами, сохранив при этом размеры облака (то есть сделаем поворот в трёхмерном пространстве)"
   ]
  },
  {
   "cell_type": "code",
   "execution_count": null,
   "metadata": {},
   "outputs": [],
   "source": [
    "Sinv = np.linalg.inv(D.T)\n",
    "\n",
    "X_1 = (Sinv @ X.T).T\n",
    "\n",
    "\n",
    "plot_colored_spiral(X_1, np.eye(3,3), A)"
   ]
  },
  {
   "cell_type": "markdown",
   "metadata": {},
   "source": [
    "Теперь проще проецировать все точки сразу"
   ]
  },
  {
   "cell_type": "code",
   "execution_count": null,
   "metadata": {},
   "outputs": [],
   "source": [
    "import seaborn as sns\n",
    "import matplotlib.pyplot as plt\n",
    "\n",
    "sns.scatterplot(x=X_1[:, 0], y=X_1[:, 1])\n",
    "plt.title(\"Проекция на плоскость первого вектора\")\n",
    "\n",
    "plt.show()"
   ]
  },
  {
   "cell_type": "code",
   "execution_count": null,
   "metadata": {},
   "outputs": [],
   "source": [
    "sns.scatterplot(x=X_1[:, 1], y=X_1[:, 2])\n",
    "\n",
    "plt.title(\"Проекция на плоскость второго вектора\")\n",
    "\n",
    "plt.show()"
   ]
  },
  {
   "cell_type": "code",
   "execution_count": null,
   "metadata": {},
   "outputs": [],
   "source": [
    "sns.scatterplot(x=X_1[:, 0], y=X_1[:, 2])\n",
    "\n",
    "plt.title(\"Проекция на плоскость третьего вектора\")\n",
    "\n",
    "plt.show()"
   ]
  },
  {
   "cell_type": "markdown",
   "metadata": {},
   "source": [
    "## **Задание 5 - Геометрический смысл сингулярного разложения**"
   ]
  },
  {
   "cell_type": "markdown",
   "metadata": {},
   "source": [
    "Практическое задание"
   ]
  },
  {
   "cell_type": "code",
   "execution_count": 17,
   "metadata": {},
   "outputs": [],
   "source": [
    "import numpy as np\n",
    "\n",
    "def tsvd(A, b, eps=1e-8):\n",
    "\n",
    "    U, S, Vt = np.linalg.svd(A)\n",
    "    r = np.sum(S > eps)\n",
    "    \n",
    "    U_tsvd = U[:, :r]\n",
    "    S_tsvd = S[:r]\n",
    "    Vt_tsvd = Vt[:r]\n",
    "\n",
    "    Sinv = np.diag(1/S_tsvd)\n",
    "\n",
    "    x_tsvd = Vt_tsvd[:r, :].T @ Sinv @ U_tsvd[:, :r].T @ b\n",
    "\n",
    "    U_add = U[:, r:]\n",
    "    Vt_add = Vt[r:]\n",
    "\n",
    "    C2 = U_add.T @ A @ Vt_add.T\n",
    "    b2 = U_add.T @ b\n",
    "\n",
    "    z2 = np.linalg.solve(C2, b2)\n",
    "    x = x_tsvd + Vt_add.T @ z2\n",
    "\n",
    "\n",
    "    res = np.linalg.norm(A @ x - b)\n",
    "    return x, res"
   ]
  },
  {
   "cell_type": "code",
   "execution_count": null,
   "metadata": {},
   "outputs": [],
   "source": [
    "from scipy.linalg import hilbert\n",
    "n = 8\n",
    "H = hilbert(n)\n",
    "b = np.array([1] + [0]*(n-1))\n",
    "\n",
    "\n",
    "x_standart = np.linalg.solve(H, b)\n",
    "res_standart = np.linalg.norm(H @ x_standart - b)\n",
    "\n",
    "x_tsvd, res_tsvd = tsvd(H, b)\n",
    "\n",
    "print(f\"n = {n}\\n\")\n",
    "print(f\"Стандартное решение:\\n {x_standart}\")\n",
    "print(f\"Невязка: {res_standart}\\n\")\n",
    "print(f\"TSVD решение:\\n {x_tsvd}\")\n",
    "print(f\"Невязка: {res_tsvd}\")"
   ]
  },
  {
   "cell_type": "markdown",
   "metadata": {},
   "source": [
    "TSVD решение на порядок менее точное"
   ]
  },
  {
   "cell_type": "code",
   "execution_count": null,
   "metadata": {},
   "outputs": [],
   "source": [
    "n = 10\n",
    "H = hilbert(n)\n",
    "b = np.array([1] + [0]*(n-1))\n",
    "\n",
    "x_standart = np.linalg.solve(H, b)\n",
    "res_standart = np.linalg.norm(H @ x_standart - b)\n",
    "\n",
    "x_tsvd, res_tsvd = tsvd(H, b)\n",
    "\n",
    "print(f\"n = {n}\\n\")\n",
    "print(f\"Стандартное решение:\\n {x_standart}\")\n",
    "print(f\"Невязка: {res_standart}\\n\")\n",
    "print(f\"TSVD решение:\\n {x_tsvd}\")\n",
    "print(f\"Невязка: {res_tsvd}\")"
   ]
  },
  {
   "cell_type": "markdown",
   "metadata": {},
   "source": [
    "TSVD решение даже немного точнее стандартного"
   ]
  },
  {
   "cell_type": "markdown",
   "metadata": {},
   "source": [
    "## **Задание 6 - Преобразование Прокруста**"
   ]
  },
  {
   "cell_type": "code",
   "execution_count": 20,
   "metadata": {},
   "outputs": [],
   "source": [
    "import pandas as pd\n",
    "\n",
    "data = pd.read_csv(\"signatureData.csv\")\n",
    "\n",
    "fig1=data[[\"x1\", \"x2\"]]\n",
    "fig2=data[[\"y1\", \"y2\"]]\n",
    "\n",
    "def procrustes(X1, X2):\n",
    "    mean1 = np.array(X1.mean(axis=0)).reshape(2,1)\n",
    "    mean2 = np.array(X2.mean(axis=0)).reshape(2,1)\n",
    "\n",
    "    one = np.ones(shape=(X1.shape[0],1))\n",
    "\n",
    "    fig1c = X1 - one @ mean1.T\n",
    "    fig2c = X2 - one @ mean2.T\n",
    "\n",
    "    U,D,Vt = np.linalg.svd(fig1c.T @ fig2c)\n",
    "\n",
    "    R = U @ Vt\n",
    "\n",
    "    mu = mean2 - R.T @ mean1\n",
    "\n",
    "    fig1_new = X1 @ R + one @ mu.reshape(2,1).T\n",
    "\n",
    "    return fig1_new"
   ]
  },
  {
   "cell_type": "code",
   "execution_count": 21,
   "metadata": {},
   "outputs": [],
   "source": [
    "fig1_new = procrustes(fig1, fig2)"
   ]
  },
  {
   "cell_type": "code",
   "execution_count": null,
   "metadata": {},
   "outputs": [],
   "source": [
    "mean1 = np.array(fig1.mean(axis=0)).reshape(2,1)\n",
    "mean2 = np.array(fig2.mean(axis=0)).reshape(2,1)\n",
    "\n",
    "mean1, mean2"
   ]
  },
  {
   "cell_type": "code",
   "execution_count": null,
   "metadata": {},
   "outputs": [],
   "source": [
    "plt.scatter(x = fig1_new[0], y = fig1_new[1], label = \"transformed object 1\")\n",
    "plt.scatter(x = fig2[\"y1\"], y = fig2[\"y2\"], label = \"object 2 (goal)\")\n",
    "plt.scatter(x = fig1[\"x1\"], y = fig1[\"x2\"], label = \"object 1\")\n",
    "\n",
    "plt.legend()"
   ]
  },
  {
   "cell_type": "code",
   "execution_count": 24,
   "metadata": {},
   "outputs": [],
   "source": [
    "def rotation():\n",
    "    cos = np.random.rand()\n",
    "    sin = (np.random.choice([-1,1],1))[0]*np.sqrt(1-cos**2)\n",
    "\n",
    "    return np.array([[cos, sin],[-sin, cos]])"
   ]
  },
  {
   "cell_type": "code",
   "execution_count": 25,
   "metadata": {},
   "outputs": [],
   "source": [
    "s2 = np.array([[4,4],[4,8],[8,8],[8,4],[4,6],[8,6],[6,4], [6,8], [6,6]])\n",
    "s1 = (s2 + np.random.random(size=s2.shape)) @ rotation() + np.ones(shape=(s2.shape[0],1)) @ np.random.randint(-20,20, size=(2,1)).T"
   ]
  },
  {
   "cell_type": "code",
   "execution_count": 26,
   "metadata": {},
   "outputs": [],
   "source": [
    "s1_new = procrustes(s1,s2)"
   ]
  },
  {
   "cell_type": "code",
   "execution_count": null,
   "metadata": {},
   "outputs": [],
   "source": [
    "plt.scatter(s1_new[:,0], s1_new[:,1], label = \"transformed object 1\")\n",
    "plt.scatter(s2[:,0], s2[:,1], label = \"object 2 (goal)\")\n",
    "plt.scatter(s1[:,0], s1[:,1], label = \"object 1\")\n",
    "\n",
    "plt.title(\"Незначительно отличающиеся фигуры\")\n",
    "\n",
    "plt.legend()"
   ]
  },
  {
   "cell_type": "markdown",
   "metadata": {},
   "source": [
    "Замечание: возможные искажения фигур на графиках (сжатия, растяжения) связаны исключительно с визуализацией (масштабирование осей). Реально фигуры только двигаются и вращаются согласно формулам."
   ]
  },
  {
   "cell_type": "code",
   "execution_count": 28,
   "metadata": {},
   "outputs": [],
   "source": [
    "s2 = np.array([[4,4],[4,8],[8,8],[8,4],[4,6],[8,6],[6,4], [6,8], [6,6]])\n",
    "\n",
    "rot = rotation()\n",
    "\n",
    "s1 = (s2) @ rot.T + np.ones(shape=(s2.shape[0],1)) @ np.random.randint(-20,20, size=(2,1)).T"
   ]
  },
  {
   "cell_type": "code",
   "execution_count": 29,
   "metadata": {},
   "outputs": [],
   "source": [
    "s1_new = procrustes(s1,s2)"
   ]
  },
  {
   "cell_type": "code",
   "execution_count": null,
   "metadata": {},
   "outputs": [],
   "source": [
    "plt.scatter(s1_new[:,0], s1_new[:,1], label = \"transformed object 1\")\n",
    "plt.scatter(s2[:,0], s2[:,1], label = \"object 2 (goal)\", s=8)\n",
    "plt.scatter(s1[:,0], s1[:,1], label = \"object 1\")\n",
    "\n",
    "plt.title(\"Одинаковые фигуры\")\n",
    "plt.legend()"
   ]
  },
  {
   "cell_type": "code",
   "execution_count": 31,
   "metadata": {},
   "outputs": [],
   "source": [
    "s2 = np.array([[4,4],[4,8],[8,8],[8,4],[4,6],[8,6],[6,4], [6,8], [6,6]])\n",
    "\n",
    "s1 = np.array([[0,0],[5,6],[4,-5],[1,2],[2,7],[3,1],[5,5],[10,8],[0,3]]) + np.ones(shape=(s2.shape[0],1)) @ np.random.randint(-20,20, size=(2,1)).T"
   ]
  },
  {
   "cell_type": "code",
   "execution_count": 32,
   "metadata": {},
   "outputs": [],
   "source": [
    "s1_new = procrustes(s1,s2)"
   ]
  },
  {
   "cell_type": "code",
   "execution_count": null,
   "metadata": {},
   "outputs": [],
   "source": [
    "plt.scatter(s1_new[:,0], s1_new[:,1], label = \"transformed object 1\")\n",
    "plt.scatter(s2[:,0], s2[:,1], label = \"object 2 (goal)\")\n",
    "plt.scatter(s1[:,0], s1[:,1], label = \"object 1\")\n",
    "\n",
    "plt.title(\"Разные фигуры\")\n",
    "plt.legend()"
   ]
  },
  {
   "cell_type": "markdown",
   "metadata": {},
   "source": [
    "Доказательство формул"
   ]
  }
 ],
 "metadata": {
  "kernelspec": {
   "display_name": "Python 3",
   "language": "python",
   "name": "python3"
  },
  "language_info": {
   "codemirror_mode": {
    "name": "ipython",
    "version": 3
   },
   "file_extension": ".py",
   "mimetype": "text/x-python",
   "name": "python",
   "nbconvert_exporter": "python",
   "pygments_lexer": "ipython3",
   "version": "3.11.0"
  }
 },
 "nbformat": 4,
 "nbformat_minor": 2
}

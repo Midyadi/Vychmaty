{
 "cells": [
  {
   "cell_type": "markdown",
   "metadata": {},
   "source": [
    "# Задание 1"
   ]
  },
  {
   "cell_type": "markdown",
   "metadata": {},
   "source": [
    "Сначала проведём в данном интеграле замену: $x(t) = a+\\dfrac{b-a}{2}(1-\\cos{\\pi t})=[a=-1, b=1]=-\\cos{\\pi t}$\n",
    "\n",
    "$$I = \\int_{-1}^1\\dfrac{\\sin{\\dfrac{x}{2}}}{e^x-1}dx = -\\pi\\int_0^1\\dfrac{\\sin{\\left(\\dfrac{\\cos{\\pi t}}{2}\\right)}}{e^{-\\cos{\\pi t}}-1}\\sin{\\pi t}dt$$\n",
    "\n",
    "Теперь подинтегральная функция регулярна на всём отрезке интегрирования и позволяет выходить за его пределы"
   ]
  },
  {
   "cell_type": "code",
   "execution_count": null,
   "metadata": {},
   "outputs": [],
   "source": [
    "import numpy as np\n",
    "from scipy.special import comb\n",
    "from math import factorial\n",
    "\n",
    "def D(n, j, Ds):\n",
    "    \n",
    "    if j+1==0:\n",
    "        return 1\n",
    "    else:\n",
    "        s = 0\n",
    "        for k in range(0,n+2*j+1):\n",
    "            for l in range(0,j+1):\n",
    "                s+=(-1)**k*Ds[l][n]*comb(n+2*l, k-j+l)*(n+2*j-2*k)**(n+2*j+2)/2**(n+2*j+2)/factorial(n+2*j+2)\n",
    "        return s\n",
    "    \n",
    "def A(m,k,n, Ds):\n",
    "    s=0\n",
    "    \n",
    "    for l in range(0,m+1):\n",
    "        s+=(-1)**(k-m)* Ds[l][n] * comb(n+2*l, k-m+l)\n",
    "    return s\n",
    "\n",
    "def W(k,m, Ds):\n",
    "    s=0\n",
    "    for n in range(0,m+1):\n",
    "        s+=A(m-n,k,2*n, Ds)/2**(2*n)/factorial(2*n+1)\n",
    "    return s\n",
    "\n",
    "def integr(f,h,m, b, a):\n",
    "    s=0\n",
    "    xs = np.linspace(a-h*m,b+h*m, int(2*m+(b-a)/h+1))\n",
    "    ys = f(xs)\n",
    "    J = int((b-a)/h)\n",
    "\n",
    "\n",
    "    # Сохраняем значения коэффициентов D_n^l, чтобы не пересчитывать каждый раз \n",
    "    # Это было бы очень затратно\n",
    "    Ds = np.ones(shape=(2*m+1,4*m+1))\n",
    "    for l in range(-1,2*m):\n",
    "        for n in range(0,4*m):\n",
    "            Ds[l+1][n] = D(n,l, Ds)\n",
    "            \n",
    "    for j in range(0, J):\n",
    "        for k in range(-m, m+1):\n",
    "            s+=W(m, m-k, Ds)*ys[j+k+m]\n",
    "\n",
    "    return h*s"
   ]
  },
  {
   "cell_type": "code",
   "execution_count": 137,
   "metadata": {},
   "outputs": [
    {
     "data": {
      "text/plain": [
       "(1.0130255856983468, 3.02409744182496e-11)"
      ]
     },
     "execution_count": 137,
     "metadata": {},
     "output_type": "execute_result"
    }
   ],
   "source": [
    "def f(x):\n",
    "    return np.sin(np.cos(np.pi*x)/2)*np.sin(np.pi*x)/(np.exp(-np.cos(np.pi*x))-1)\n",
    "\n",
    "I = -np.pi*integr(f,0.0001, 10, 1,0)\n",
    "\n",
    "dI = abs(-np.pi*integr(f,0.0002, 10, 1,0)-I)/(2**(2*10+2)-1)\n",
    "\n",
    "I,dI"
   ]
  },
  {
   "cell_type": "markdown",
   "metadata": {},
   "source": [
    "По методу Рунге оценим погрешность, и получим что она всё ещё заметно больше, чем машинная точность, а при этом шаг интегрирования уже довольно мал (дальнейшее уменьшение приводит к значительному росту времени вычислений), а число шагов за пределы интегрирования больше, чем было рекомендовано для машинной точности ($m\\approx 7$), и дальнейшее его увеличение также сильно снижает скорость вычислений.\n",
    "\n",
    "Также заметим, что значение интеграла отличается от посчитанного на Вольфраме ($1.01304$) уже в 5 знаке после запятой, то есть оценка погрешности по Рунге, видимо, неверна, то есть не были выполнены условия применимости этой формулы."
   ]
  },
  {
   "cell_type": "markdown",
   "metadata": {},
   "source": [
    "# Задание 2"
   ]
  },
  {
   "cell_type": "markdown",
   "metadata": {},
   "source": [
    "Сначала преобразуем предел суммы к частичной сумме ряда: $$1+\\dfrac{1}{2}+\\cdots+\\dfrac{1}{n}-\\ln{n} = \\sum_{k=1}^{n}\\left(\\dfrac{1}{k}-\\ln{k}\\right)+\\sum_{k=1}^{n-1}\\ln{k} = 1 + \\sum_{k=1}^{n-1}\\left(\\dfrac{1}{k+1}+\\ln{\\dfrac{k}{k+1}}\\right)$$\n",
    "\n",
    "Тогда при взятии предела в изначальном выражении получим ряд: $$1+\\sum_{k=1}^{\\infty}\\left(\\dfrac{1}{k+1}+\\ln{\\dfrac{k}{k+1}}\\right) = 1+ \\int_{j_m+1/2}^{\\infty}\\left(\\dfrac{1}{x+1}+\\ln{\\dfrac{x}{x+1}}\\right)dx+\\sum_{j=1}^{j_m-m}\\left(\\dfrac{1}{j+1}+\\ln{\\dfrac{j}{j+1}}\\right) + $$ $$+\\sum_{j=j_m-m+1}^{j_m+m}(1-I^m_{j+m-j_m-1})\\left(\\dfrac{1}{j+1}+\\ln{\\dfrac{j}{j+1}}\\right) + O(\\dfrac{1}{j_s^{2m+2}})$$"
   ]
  },
  {
   "cell_type": "markdown",
   "metadata": {},
   "source": [
    "Интеграл вычисляется точно: $$\\int_{j_m+1/2}^{\\infty}\\left(\\dfrac{1}{x+1}+\\ln{\\dfrac{x}{x+1}}\\right)dx = -\\left(j_m+\\dfrac{1}{2}\\right)\\ln{\\dfrac{j_m+\\dfrac{1}{2}}{j_m+\\dfrac{3}{2}}}-1$$"
   ]
  },
  {
   "cell_type": "markdown",
   "metadata": {},
   "source": [
    "Так как хотим характерный масштаб изменения функции (например изменение в 2 раза) $j_s \\gg 1$ при $j>j_m$, то можем взять, например, $j_m = 100$, $j_s=25$, также возьмём $m=15$"
   ]
  },
  {
   "cell_type": "code",
   "execution_count": null,
   "metadata": {},
   "outputs": [
    {
     "data": {
      "text/plain": [
       "(0.5772156649015318, 1.844674407370955e-45)"
      ]
     },
     "execution_count": 148,
     "metadata": {},
     "output_type": "execute_result"
    }
   ],
   "source": [
    "j_m=100\n",
    "j_s=25\n",
    "m=15\n",
    "\n",
    "Ds = np.ones(shape=(2*m+1,4*m+1))\n",
    "for l in range(-1,2*m):\n",
    "    for n in range(0,4*m):\n",
    "        Ds[l+1][n] = D(n,l, Ds)\n",
    "\n",
    "def I(l,m):\n",
    "    s=0\n",
    "    for k in range(0, l+1):\n",
    "        s+=W(2*m-k, m, Ds)\n",
    "    return s\n",
    "\n",
    "I_1 = -(j_m+1/2)*np.log((j_m+1/2)/(j_m+3/2))\n",
    "\n",
    "S_1 = np.sum([1/(j+1)+np.log(j/(j+1)) for j in range(1,j_m-m+1)])\n",
    "\n",
    "S_2 = np.sum([(1/(j+1)+np.log(j/(j+1)))*(1-I(j+m-j_m-1,m)) for j in range(j_m-m+1,j_m+m)])\n",
    "\n",
    "Int = I_1+S_1+S_2\n",
    "\n",
    "Int, 1/j_s**(2*m+2)"
   ]
  },
  {
   "cell_type": "markdown",
   "metadata": {},
   "source": [
    "Видим, что несмотря на чрезвычайно низкую погрешность, посчитанную по формуле $\\dfrac{1}{j_s^{2m+2}}$, расхождение с табличным значением константы наблюдается уже в 14 знаке после запятой (так что формально мы получили ответ с требуемой точностью - успех)."
   ]
  },
  {
   "cell_type": "markdown",
   "metadata": {},
   "source": [
    "# Задание 3"
   ]
  },
  {
   "cell_type": "markdown",
   "metadata": {},
   "source": [
    "В разобранном примере мы получили формулу для значения суммы исходного ряда через новый ряд $$S = \\dfrac{\\pi^2}{6}-\\dfrac{\\pi}{6}+1-\\sum_{n=1}^{\\infty}\\dfrac{\\cos{2n}}{n^2(n^4+n^2+1)}$$ и примерное число слагаемых для достижения требуемой точности ($k\\approx 10$)\n",
    "\n",
    "Осталось реализовать:"
   ]
  },
  {
   "cell_type": "code",
   "execution_count": 138,
   "metadata": {},
   "outputs": [
    {
     "data": {
      "text/plain": [
       "2.266728526716446"
      ]
     },
     "execution_count": 138,
     "metadata": {},
     "output_type": "execute_result"
    }
   ],
   "source": [
    "S_1 = 0\n",
    "\n",
    "for n in range(1,15): #Возьмём чуть больше членов, чтобы гарантированно превысить точность\n",
    "    S_1+=np.cos(2*n)/(n**2*(n**4+n**2+1))\n",
    "\n",
    "S = np.pi**2/6-np.pi/6+1-S_1\n",
    "\n",
    "S"
   ]
  },
  {
   "cell_type": "markdown",
   "metadata": {},
   "source": [
    "# Задание 4"
   ]
  },
  {
   "cell_type": "markdown",
   "metadata": {},
   "source": [
    "Ввиду того, что заданная функция кусочна, симметризовать сетку не получится, поэтому можем вычислить 2 односторонних предела по известной формуле и сравнить их: если они совпадут - мы нашли искомый предел. $$\\lim\\limits_{x\\to +0}\\dfrac{\\ch{\\sqrt{|x|}}-1}{x} = \\lim\\limits_{t\\to 0} \\dfrac{\\ch{|t|}-1}{t^2}$$ \n",
    "\n",
    "Полученная функция чётная, что позволяет использовать нужный метод"
   ]
  },
  {
   "cell_type": "code",
   "execution_count": 154,
   "metadata": {},
   "outputs": [],
   "source": [
    "h = 0.001\n",
    "m=30\n",
    "N=2*m\n",
    "\n",
    "def f1(t):\n",
    "    return (np.cosh(np.abs(t))-1)/t**2\n",
    "\n",
    "def lim(ys, N, m):\n",
    "    s=0\n",
    "    for n in range(0,N+1):\n",
    "        for k in range(0,2*m + (n%2)+1):\n",
    "            s+=A(int(m-(n-(n%2))/2), k,n,Ds)*(-1)**n/4**n/factorial(n)*ys[abs(2*m+(n%2)-2*k)]\n",
    "\n",
    "    return s"
   ]
  },
  {
   "cell_type": "code",
   "execution_count": null,
   "metadata": {},
   "outputs": [
    {
     "data": {
      "text/plain": [
       "0.5000000659956649"
      ]
     },
     "execution_count": 155,
     "metadata": {},
     "output_type": "execute_result"
    }
   ],
   "source": [
    "xs = np.linspace(h, h*(2*m+2), 2*m+2)\n",
    "ys = f1(xs)\n",
    "\n",
    "Ds = np.ones(shape=(m+1,N+1))\n",
    "for l in range(-1,m):\n",
    "    for n in range(0,N):\n",
    "        Ds[l+1][n] = D(n,l, Ds)\n",
    "\n",
    "lim(ys,N,m)"
   ]
  },
  {
   "cell_type": "markdown",
   "metadata": {},
   "source": [
    "Теперь делаем то же самое с другим куском функции:"
   ]
  },
  {
   "cell_type": "code",
   "execution_count": 157,
   "metadata": {},
   "outputs": [
    {
     "data": {
      "text/plain": [
       "0.4999999339306714"
      ]
     },
     "execution_count": 157,
     "metadata": {},
     "output_type": "execute_result"
    }
   ],
   "source": [
    "def f2(t):\n",
    "    return -(np.cos(np.abs(t))-1)/t**2\n",
    "\n",
    "ys = f2(xs)\n",
    "\n",
    "lim(ys,N,m)"
   ]
  },
  {
   "cell_type": "markdown",
   "metadata": {},
   "source": [
    "Действительно односторонние пределы совпали с хорошей точностью (можно подгонять под требуемую точность путём увеличения порядка разложения $N$ или числа точек $m$) и равны $\\approx \\dfrac{1}{2}$.\n",
    "\n",
    "Аналитическим вычислением предела можно убедиться, что предел действительно будет равен $\\dfrac{1}{2}$"
   ]
  }
 ],
 "metadata": {
  "kernelspec": {
   "display_name": "Python 3",
   "language": "python",
   "name": "python3"
  },
  "language_info": {
   "codemirror_mode": {
    "name": "ipython",
    "version": 3
   },
   "file_extension": ".py",
   "mimetype": "text/x-python",
   "name": "python",
   "nbconvert_exporter": "python",
   "pygments_lexer": "ipython3",
   "version": "3.11.0"
  }
 },
 "nbformat": 4,
 "nbformat_minor": 2
}
